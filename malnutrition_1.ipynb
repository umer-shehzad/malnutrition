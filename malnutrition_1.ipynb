{
 "cells": [
  {
   "cell_type": "markdown",
   "id": "47c29a2e",
   "metadata": {},
   "source": [
    "Import numpy and pandas libraries for data cleaning and management"
   ]
  },
  {
   "cell_type": "code",
   "execution_count": 2,
   "id": "08161dca",
   "metadata": {},
   "outputs": [],
   "source": [
    "import numpy as np\n",
    "import pandas as pd"
   ]
  },
  {
   "cell_type": "code",
   "execution_count": 3,
   "id": "1b8fcfad",
   "metadata": {},
   "outputs": [
    {
     "name": "stdout",
     "output_type": "stream",
     "text": [
      "File load successfuly!\n"
     ]
    }
   ],
   "source": [
    "#read malnutriton file\n",
    "data = pd.read_csv(r\"C:\\Users\\ALI LAPTOP LAB\\Desktop\\Data Science Projects\\Visualization\\mal_dataset.csv\")\n",
    "print('File load successfuly!')"
   ]
  },
  {
   "cell_type": "code",
   "execution_count": 4,
   "id": "6d7b49a8",
   "metadata": {},
   "outputs": [],
   "source": [
    "#convert data into dataframes\n",
    "df = pd.DataFrame(data)    #if file is .csv, not need to convert it into dataframe"
   ]
  },
  {
   "cell_type": "markdown",
   "id": "c66596d9",
   "metadata": {},
   "source": [
    "### Data preprocessing"
   ]
  },
  {
   "cell_type": "code",
   "execution_count": 5,
   "id": "2b8246b4",
   "metadata": {},
   "outputs": [
    {
     "data": {
      "text/html": [
       "<div>\n",
       "<style scoped>\n",
       "    .dataframe tbody tr th:only-of-type {\n",
       "        vertical-align: middle;\n",
       "    }\n",
       "\n",
       "    .dataframe tbody tr th {\n",
       "        vertical-align: top;\n",
       "    }\n",
       "\n",
       "    .dataframe thead th {\n",
       "        text-align: right;\n",
       "    }\n",
       "</style>\n",
       "<table border=\"1\" class=\"dataframe\">\n",
       "  <thead>\n",
       "    <tr style=\"text-align: right;\">\n",
       "      <th></th>\n",
       "      <th>SAMPLE</th>\n",
       "      <th>SAMPLESTR</th>\n",
       "      <th>COUNTRY</th>\n",
       "      <th>YEAR</th>\n",
       "      <th>URBAN</th>\n",
       "      <th>WKCURRJOB</th>\n",
       "      <th>WEALTHQUR</th>\n",
       "      <th>EDUCLVL</th>\n",
       "      <th>DECBIGHH</th>\n",
       "      <th>HWWHZNCHS</th>\n",
       "      <th>HWWAZNCHS</th>\n",
       "      <th>HWHAZNCHS</th>\n",
       "    </tr>\n",
       "  </thead>\n",
       "  <tbody>\n",
       "    <tr>\n",
       "      <th>0</th>\n",
       "      <td>58604</td>\n",
       "      <td>58604</td>\n",
       "      <td>586</td>\n",
       "      <td>2017</td>\n",
       "      <td>2</td>\n",
       "      <td>0</td>\n",
       "      <td>1</td>\n",
       "      <td>2</td>\n",
       "      <td>40</td>\n",
       "      <td>-73</td>\n",
       "      <td>-235</td>\n",
       "      <td>-323</td>\n",
       "    </tr>\n",
       "    <tr>\n",
       "      <th>1</th>\n",
       "      <td>58604</td>\n",
       "      <td>58604</td>\n",
       "      <td>586</td>\n",
       "      <td>2017</td>\n",
       "      <td>2</td>\n",
       "      <td>0</td>\n",
       "      <td>2</td>\n",
       "      <td>2</td>\n",
       "      <td>50</td>\n",
       "      <td>9999</td>\n",
       "      <td>9999</td>\n",
       "      <td>9999</td>\n",
       "    </tr>\n",
       "    <tr>\n",
       "      <th>2</th>\n",
       "      <td>58604</td>\n",
       "      <td>58604</td>\n",
       "      <td>586</td>\n",
       "      <td>2017</td>\n",
       "      <td>2</td>\n",
       "      <td>0</td>\n",
       "      <td>2</td>\n",
       "      <td>3</td>\n",
       "      <td>50</td>\n",
       "      <td>9999</td>\n",
       "      <td>9999</td>\n",
       "      <td>9999</td>\n",
       "    </tr>\n",
       "    <tr>\n",
       "      <th>3</th>\n",
       "      <td>58604</td>\n",
       "      <td>58604</td>\n",
       "      <td>586</td>\n",
       "      <td>2017</td>\n",
       "      <td>2</td>\n",
       "      <td>0</td>\n",
       "      <td>2</td>\n",
       "      <td>0</td>\n",
       "      <td>50</td>\n",
       "      <td>9999</td>\n",
       "      <td>9999</td>\n",
       "      <td>9999</td>\n",
       "    </tr>\n",
       "    <tr>\n",
       "      <th>4</th>\n",
       "      <td>58604</td>\n",
       "      <td>58604</td>\n",
       "      <td>586</td>\n",
       "      <td>2017</td>\n",
       "      <td>2</td>\n",
       "      <td>0</td>\n",
       "      <td>2</td>\n",
       "      <td>0</td>\n",
       "      <td>50</td>\n",
       "      <td>9999</td>\n",
       "      <td>9999</td>\n",
       "      <td>9999</td>\n",
       "    </tr>\n",
       "  </tbody>\n",
       "</table>\n",
       "</div>"
      ],
      "text/plain": [
       "   SAMPLE  SAMPLESTR  COUNTRY  YEAR  URBAN  WKCURRJOB  WEALTHQUR  EDUCLVL  \\\n",
       "0   58604      58604      586  2017      2          0          1        2   \n",
       "1   58604      58604      586  2017      2          0          2        2   \n",
       "2   58604      58604      586  2017      2          0          2        3   \n",
       "3   58604      58604      586  2017      2          0          2        0   \n",
       "4   58604      58604      586  2017      2          0          2        0   \n",
       "\n",
       "   DECBIGHH  HWWHZNCHS  HWWAZNCHS  HWHAZNCHS  \n",
       "0        40        -73       -235       -323  \n",
       "1        50       9999       9999       9999  \n",
       "2        50       9999       9999       9999  \n",
       "3        50       9999       9999       9999  \n",
       "4        50       9999       9999       9999  "
      ]
     },
     "execution_count": 5,
     "metadata": {},
     "output_type": "execute_result"
    }
   ],
   "source": [
    "#have a look on data\n",
    "df.head()"
   ]
  },
  {
   "cell_type": "markdown",
   "id": "7fec5e61",
   "metadata": {},
   "source": [
    "I am trying to see the impact of \"Women Empowerment Variables\" on nutrition level of Children.\n",
    "Here, independent variables are URBAN, WKCURRJOB, WEALTH, WEALTHQUR and EDUCLVL.\n",
    "and the dependent variables are HWWHZNCHS, HWWAZNCHS and HWHAZNCHS."
   ]
  },
  {
   "cell_type": "code",
   "execution_count": 6,
   "id": "f5546e5d",
   "metadata": {},
   "outputs": [
    {
     "data": {
      "text/plain": [
       "Index(['URBAN', 'WKCURRJOB', 'WEALTHQUR', 'EDUCLVL', 'DECBIGHH', 'HWWHZNCHS',\n",
       "       'HWWAZNCHS', 'HWHAZNCHS'],\n",
       "      dtype='object')"
      ]
     },
     "execution_count": 6,
     "metadata": {},
     "output_type": "execute_result"
    }
   ],
   "source": [
    "#column SAMPLE, SAMPLESTR, COUNTRY and YEAR are useless for us. So, delete these columns\n",
    "deleted_Columns = ['SAMPLE', 'SAMPLESTR', 'COUNTRY' , 'YEAR']\n",
    "\n",
    "#selected columns deleted\n",
    "check =df.drop(deleted_Columns, axis=1, inplace=True)\n",
    "\n",
    "#see the columns are deleted.\n",
    "df.columns"
   ]
  },
  {
   "cell_type": "markdown",
   "id": "67f532d3",
   "metadata": {},
   "source": [
    "Change variable name:\n",
    "\n",
    "**************Dependent variables************\n",
    "\n",
    "HWHAZNCHS\t-> stunted\n",
    "\n",
    "HWWAZNCHS\t-> underweight\n",
    "\n",
    "HWWHZNCHS\t-> wasted\n",
    "\n",
    "************Independent variables***********\n",
    "\n",
    "URBAN -> residence\n",
    "\n",
    "WEALTHQUR -> wealthStatus\n",
    "\n",
    "EDUCLVL -> eduStatus\n",
    "\n",
    "WKCURRJOB -> workStatus\n",
    "\n",
    "DECBIGHH -> emp"
   ]
  },
  {
   "cell_type": "code",
   "execution_count": 7,
   "id": "f9ebb569",
   "metadata": {},
   "outputs": [
    {
     "name": "stdout",
     "output_type": "stream",
     "text": [
      "Names are succesfully changes\n",
      " Index(['residence', 'workStatus', 'wealthStatus', 'eduStatus', 'emp', 'wasted',\n",
      "       'underweight', 'stunted'],\n",
      "      dtype='object')\n"
     ]
    }
   ],
   "source": [
    "#change the columns names\n",
    "df.rename(columns={'HWHAZNCHS':'stunted',\n",
    "                   'HWWAZNCHS':'underweight',\n",
    "                   'HWWHZNCHS':'wasted',\n",
    "                   'URBAN':'residence',\n",
    "                   'WEALTHQUR':'wealthStatus',\n",
    "                   'EDUCLVL':'eduStatus',\n",
    "                   'WKCURRJOB':'workStatus',\n",
    "                   'DECBIGHH':'emp'}, inplace=True)\n",
    "print('Names are succesfully changes\\n', df.columns)"
   ]
  },
  {
   "cell_type": "code",
   "execution_count": 8,
   "id": "c4b701c9",
   "metadata": {},
   "outputs": [
    {
     "name": "stdout",
     "output_type": "stream",
     "text": [
      "[2 1] \n",
      "\n",
      "[ 0 10 52 51 22 40 98 30 21] \n",
      "\n",
      "[1 2 3 4 5] \n",
      "\n",
      "[2 3 0 1] \n",
      "\n",
      "[40 50 20 10 99 60 98]\n"
     ]
    }
   ],
   "source": [
    "#check the unique values for independent variables\n",
    "print(df.residence.unique(), '\\n')\n",
    "print(df.workStatus.unique(), '\\n')\n",
    "print(df.wealthStatus.unique(), '\\n')\n",
    "print(df.eduStatus.unique(), '\\n')\n",
    "print(df.emp.unique())"
   ]
  },
  {
   "cell_type": "markdown",
   "id": "249b7ca0",
   "metadata": {},
   "source": [
    "##### Manipulation of Independent Variables"
   ]
  },
  {
   "cell_type": "markdown",
   "id": "570947d2",
   "metadata": {},
   "source": [
    "Detailed Info of varaibles\n",
    "\n",
    "residence -->\t0 = Rural; 1 = Urban\n",
    "\n",
    "workStatus --> 0 = Not Currently Working; 1 = Agricultural; 2 = White Collar; 3 = Blue Collar \n",
    "\n",
    "wealthStatus --> 1 = Poorest; 2 = Poorer; 3 = Middle; 4 = Richer; 5 = Richest\n",
    "\n",
    "eduStatus -->  0 = Not Education; 1 = Primary; 2 = Secondary; 3 = Higher\n",
    "\n",
    "emp -->  0 = Not Empowered; 1 = Empowered"
   ]
  },
  {
   "cell_type": "code",
   "execution_count": 9,
   "id": "116367cb",
   "metadata": {},
   "outputs": [
    {
     "name": "stdout",
     "output_type": "stream",
     "text": [
      "Before Manipulation of values\n",
      "2    7099\n",
      "1    5609\n",
      "Name: residence, dtype: int64\n",
      "\n",
      "After Manipulation of values\n",
      "0    7099\n",
      "1    5609\n",
      "Name: residence, dtype: int64\n"
     ]
    }
   ],
   "source": [
    "#change residence columns values ----- 2 into 0\n",
    "print(\"Before Manipulation of values\")\n",
    "print(df.residence.value_counts())\n",
    "\n",
    "#change values\n",
    "for item in range(len(df.residence)):\n",
    "    if (df.residence[item] == 2):\n",
    "        df.residence[item] = 0\n",
    "\n",
    "print(\"\\nAfter Manipulation of values\")\n",
    "print(df.residence.value_counts())"
   ]
  },
  {
   "cell_type": "code",
   "execution_count": 10,
   "id": "f72f2805",
   "metadata": {},
   "outputs": [
    {
     "name": "stdout",
     "output_type": "stream",
     "text": [
      "Before Manipulation of values\n",
      "0     11019\n",
      "51      587\n",
      "30      460\n",
      "10      338\n",
      "40      178\n",
      "52       74\n",
      "22       40\n",
      "21        7\n",
      "98        5\n",
      "Name: workStatus, dtype: int64\n",
      "\n",
      "After Manipulation of values\n",
      "0    11019\n",
      "3      844\n",
      "1      460\n",
      "2      385\n",
      "Name: workStatus, dtype: int64\n"
     ]
    }
   ],
   "source": [
    "#change workStatus columns values ----- 30 into 1 ..... 10,21,22 into 2 ....... 40,51,52,98 into 3\n",
    "print(\"Before Manipulation of values\")\n",
    "print(df.workStatus.value_counts())\n",
    "\n",
    "#change values\n",
    "for item in range(len(df.workStatus)):\n",
    "    if (df.workStatus[item] == 30):\n",
    "        df.workStatus[item] = 1\n",
    "    elif ((df.workStatus[item] == 10) | (df.workStatus[item] == 21) | (df.workStatus[item] == 22)):\n",
    "        df.workStatus[item] = 2\n",
    "    elif ((df.workStatus[item] == 40) | (df.workStatus[item] == 51) | (df.workStatus[item] == 52) | (df.workStatus[item] == 98)):\n",
    "        df.workStatus[item] = 3\n",
    "\n",
    "print(\"\\nAfter Manipulation of values\")\n",
    "print(df.workStatus.value_counts())"
   ]
  },
  {
   "cell_type": "code",
   "execution_count": 11,
   "id": "b643cdea",
   "metadata": {},
   "outputs": [
    {
     "name": "stdout",
     "output_type": "stream",
     "text": [
      "Before Manipulation of values\n",
      "40    5234\n",
      "20    3980\n",
      "50    2264\n",
      "60     566\n",
      "10     522\n",
      "99     140\n",
      "98       2\n",
      "Name: emp, dtype: int64\n",
      "\n",
      "After Manipulation of values\n",
      "0    8206\n",
      "1    4502\n",
      "Name: emp, dtype: int64\n"
     ]
    }
   ],
   "source": [
    "#change emp columns values ----- 10,20 into 1 ..... 40,50,60,99 into 0\n",
    "print(\"Before Manipulation of values\")\n",
    "print(df.emp.value_counts())\n",
    "\n",
    "#change values\n",
    "for item in range(len(df.emp)):\n",
    "    if ( (df.emp[item] == 10) | (df.emp[item] == 20) ):\n",
    "        df.emp[item] = 1\n",
    "    elif ((df.emp[item] == 40) | (df.emp[item] == 50) | (df.emp[item] == 60) | (df.emp[item] == 99) | (df.emp[item] == 98)):\n",
    "        df.emp[item] = 0\n",
    "\n",
    "print(\"\\nAfter Manipulation of values\")\n",
    "print(df.emp.value_counts())"
   ]
  },
  {
   "cell_type": "markdown",
   "id": "a91addb4",
   "metadata": {},
   "source": [
    "#### Manipulation of Dependent variables "
   ]
  },
  {
   "cell_type": "markdown",
   "id": "10baae04",
   "metadata": {},
   "source": [
    "Now, convert the values of dependent variables.\n",
    "\n",
    "According to WHO Z-score is below than -2 standard deviation than reference population are considered stunted, wastied and underweight"
   ]
  },
  {
   "cell_type": "code",
   "execution_count": 12,
   "id": "e3a3b23a",
   "metadata": {},
   "outputs": [
    {
     "name": "stdout",
     "output_type": "stream",
     "text": [
      "Stunted After Manipulation of values\n",
      "0    11334\n",
      "1     1374\n",
      "Name: stunted, dtype: int64\n"
     ]
    }
   ],
   "source": [
    "#change stunted columns values ----- stunted=1 if stunted < -200 ..... stunted=0 if stunted > -200 & stunted < 9999\n",
    "for item in range(len(df.stunted)):\n",
    "    if ( (df.stunted[item] <= -200) ):\n",
    "        df.stunted[item] = 1\n",
    "    elif ( (df.stunted[item] > -200) | (df.stunted[item] <= 9999) ):\n",
    "        df.stunted[item] = 0\n",
    "\n",
    "print(\"Stunted After Manipulation of values\")\n",
    "print(df.stunted.value_counts())"
   ]
  },
  {
   "cell_type": "code",
   "execution_count": 13,
   "id": "f76fc26c",
   "metadata": {},
   "outputs": [
    {
     "name": "stdout",
     "output_type": "stream",
     "text": [
      "Wasted After Manipulation of values\n",
      "0    12427\n",
      "1      281\n",
      "Name: wasted, dtype: int64\n"
     ]
    }
   ],
   "source": [
    "#change wasted columns values \n",
    "#    wasted=1 if wasted <= -200 \n",
    "#    wasted=0 if wasted > -200 & wasted <= 9999\n",
    "for item in range(len(df.wasted)):\n",
    "    if ( (df.wasted[item] <= -200) ):\n",
    "        df.wasted[item] = 1\n",
    "    elif ( (df.wasted[item] > -200) | (df.wasted[item] <= 9999) ):\n",
    "        df.wasted[item] = 0\n",
    "\n",
    "print(\"Wasted After Manipulation of values\")\n",
    "print(df.wasted.value_counts())"
   ]
  },
  {
   "cell_type": "code",
   "execution_count": 14,
   "id": "98df926f",
   "metadata": {},
   "outputs": [
    {
     "name": "stdout",
     "output_type": "stream",
     "text": [
      "underweight After Manipulation of values\n",
      "0    11646\n",
      "1     1062\n",
      "Name: underweight, dtype: int64\n"
     ]
    }
   ],
   "source": [
    "#change underweight columns values\n",
    "#    underweight=1 if underweight <= -200 \n",
    "#    underweight=0 if underweight > -200 & underweight <= 9999\n",
    "for item in range(len(df.underweight)):\n",
    "    if ( (df.underweight[item] <= -200) ):\n",
    "        df.underweight[item] = 1\n",
    "    elif ( (df.underweight[item] > -200) | (df.underweight[item] <= 9999) ):\n",
    "        df.underweight[item] = 0\n",
    "\n",
    "print(\"underweight After Manipulation of values\")\n",
    "print(df.underweight.value_counts())"
   ]
  },
  {
   "cell_type": "markdown",
   "id": "a537a730",
   "metadata": {},
   "source": [
    "### End of Preprocessing"
   ]
  },
  {
   "cell_type": "code",
   "execution_count": 89,
   "id": "74758bb6",
   "metadata": {},
   "outputs": [
    {
     "data": {
      "text/html": [
       "<div>\n",
       "<style scoped>\n",
       "    .dataframe tbody tr th:only-of-type {\n",
       "        vertical-align: middle;\n",
       "    }\n",
       "\n",
       "    .dataframe tbody tr th {\n",
       "        vertical-align: top;\n",
       "    }\n",
       "\n",
       "    .dataframe thead th {\n",
       "        text-align: right;\n",
       "    }\n",
       "</style>\n",
       "<table border=\"1\" class=\"dataframe\">\n",
       "  <thead>\n",
       "    <tr style=\"text-align: right;\">\n",
       "      <th></th>\n",
       "      <th>residence</th>\n",
       "      <th>workStatus</th>\n",
       "      <th>wealthStatus</th>\n",
       "      <th>eduStatus</th>\n",
       "      <th>emp</th>\n",
       "      <th>wasted</th>\n",
       "      <th>underweight</th>\n",
       "      <th>stunted</th>\n",
       "    </tr>\n",
       "  </thead>\n",
       "  <tbody>\n",
       "    <tr>\n",
       "      <th>0</th>\n",
       "      <td>2</td>\n",
       "      <td>0</td>\n",
       "      <td>1</td>\n",
       "      <td>2</td>\n",
       "      <td>0</td>\n",
       "      <td>0</td>\n",
       "      <td>1</td>\n",
       "      <td>1</td>\n",
       "    </tr>\n",
       "    <tr>\n",
       "      <th>1</th>\n",
       "      <td>2</td>\n",
       "      <td>0</td>\n",
       "      <td>2</td>\n",
       "      <td>2</td>\n",
       "      <td>0</td>\n",
       "      <td>0</td>\n",
       "      <td>0</td>\n",
       "      <td>0</td>\n",
       "    </tr>\n",
       "    <tr>\n",
       "      <th>2</th>\n",
       "      <td>2</td>\n",
       "      <td>0</td>\n",
       "      <td>2</td>\n",
       "      <td>3</td>\n",
       "      <td>0</td>\n",
       "      <td>0</td>\n",
       "      <td>0</td>\n",
       "      <td>0</td>\n",
       "    </tr>\n",
       "    <tr>\n",
       "      <th>3</th>\n",
       "      <td>2</td>\n",
       "      <td>0</td>\n",
       "      <td>2</td>\n",
       "      <td>0</td>\n",
       "      <td>0</td>\n",
       "      <td>0</td>\n",
       "      <td>0</td>\n",
       "      <td>0</td>\n",
       "    </tr>\n",
       "    <tr>\n",
       "      <th>4</th>\n",
       "      <td>2</td>\n",
       "      <td>0</td>\n",
       "      <td>2</td>\n",
       "      <td>0</td>\n",
       "      <td>0</td>\n",
       "      <td>0</td>\n",
       "      <td>0</td>\n",
       "      <td>0</td>\n",
       "    </tr>\n",
       "  </tbody>\n",
       "</table>\n",
       "</div>"
      ],
      "text/plain": [
       "   residence  workStatus  wealthStatus  eduStatus  emp  wasted  underweight  \\\n",
       "0          2           0             1          2    0       0            1   \n",
       "1          2           0             2          2    0       0            0   \n",
       "2          2           0             2          3    0       0            0   \n",
       "3          2           0             2          0    0       0            0   \n",
       "4          2           0             2          0    0       0            0   \n",
       "\n",
       "   stunted  \n",
       "0        1  \n",
       "1        0  \n",
       "2        0  \n",
       "3        0  \n",
       "4        0  "
      ]
     },
     "execution_count": 89,
     "metadata": {},
     "output_type": "execute_result"
    }
   ],
   "source": [
    "#see the head of data\n",
    "df.head()"
   ]
  },
  {
   "cell_type": "code",
   "execution_count": 90,
   "id": "d1f6c58f",
   "metadata": {},
   "outputs": [
    {
     "name": "stdout",
     "output_type": "stream",
     "text": [
      "<class 'pandas.core.frame.DataFrame'>\n",
      "RangeIndex: 12708 entries, 0 to 12707\n",
      "Data columns (total 8 columns):\n",
      " #   Column        Non-Null Count  Dtype\n",
      "---  ------        --------------  -----\n",
      " 0   residence     12708 non-null  int64\n",
      " 1   workStatus    12708 non-null  int64\n",
      " 2   wealthStatus  12708 non-null  int64\n",
      " 3   eduStatus     12708 non-null  int64\n",
      " 4   emp           12708 non-null  int64\n",
      " 5   wasted        12708 non-null  int64\n",
      " 6   underweight   12708 non-null  int64\n",
      " 7   stunted       12708 non-null  int64\n",
      "dtypes: int64(8)\n",
      "memory usage: 794.4 KB\n"
     ]
    }
   ],
   "source": [
    "#it tell the\n",
    "# 1. Total number of obs.\n",
    "# 2. count of missing values\n",
    "# 3. Type of data\n",
    "\n",
    "df.info()\n",
    "\n",
    "# See there is no missing value in our data and number of obs = 12708"
   ]
  },
  {
   "cell_type": "markdown",
   "id": "bdc5ff5a",
   "metadata": {},
   "source": [
    "### Data  Visualization "
   ]
  },
  {
   "cell_type": "code",
   "execution_count": 421,
   "id": "4164a418",
   "metadata": {},
   "outputs": [],
   "source": [
    "#import visualization libraries\n",
    "import matplotlib.pyplot as plt\n",
    "import seaborn as sns"
   ]
  },
  {
   "cell_type": "code",
   "execution_count": 108,
   "id": "548c45cf",
   "metadata": {},
   "outputs": [],
   "source": [
    "#print(dir(sns))"
   ]
  },
  {
   "cell_type": "code",
   "execution_count": 109,
   "id": "c5e56e60",
   "metadata": {},
   "outputs": [],
   "source": [
    "#help(sns.pairplot)"
   ]
  },
  {
   "cell_type": "markdown",
   "id": "8548f1a6",
   "metadata": {},
   "source": [
    "##### Line plot\n",
    "is used to check the trends of the varaibles\n"
   ]
  },
  {
   "cell_type": "code",
   "execution_count": 111,
   "id": "a8c8efc6",
   "metadata": {},
   "outputs": [
    {
     "data": {
      "text/plain": [
       "<AxesSubplot:title={'center':'Shows relation b/w all independent variables and stunted'}, xlabel='residence', ylabel='stunted'>"
      ]
     },
     "execution_count": 111,
     "metadata": {},
     "output_type": "execute_result"
    },
    {
     "data": {
      "image/png": "[encoded data removed]",
      "text/plain": [
       "<Figure size 1008x432 with 1 Axes>"
      ]
     },
     "metadata": {
      "needs_background": "light"
     },
     "output_type": "display_data"
    }
   ],
   "source": [
    "#compare all independent variables with the stunted(dependent) variables\n",
    "\n",
    "#set the size of the figure\n",
    "plt.figure(figsize=(14,6))\n",
    "#set the title of the figure\n",
    "plt.title(\"Shows relation b/w all independent variables and stunted\")\n",
    "\n",
    "\n",
    "sns.lineplot(x=df.residence, y= df.stunted, label=\"residence\")\n",
    "sns.lineplot(x=df.emp, y= df.stunted, label=\"empowerment\")\n",
    "sns.lineplot(x=df.workStatus, y= df.stunted, label=\"workStatus\")\n",
    "sns.lineplot(x=df.wealthStatus, y= df.stunted, label=\"wealthStatus\")\n",
    "sns.lineplot(x=df.eduStatus, y= df.stunted, label=\"eduStatus\")\n"
   ]
  },
  {
   "cell_type": "code",
   "execution_count": 112,
   "id": "77df68e0",
   "metadata": {},
   "outputs": [
    {
     "data": {
      "text/plain": [
       "<AxesSubplot:title={'center':'Shows relation b/w all independent variables and wasted'}, xlabel='residence', ylabel='wasted'>"
      ]
     },
     "execution_count": 112,
     "metadata": {},
     "output_type": "execute_result"
    },
    {
     "data": {
      "image/png": "[encoded data removed]",
      "text/plain": [
       "<Figure size 1008x432 with 1 Axes>"
      ]
     },
     "metadata": {
      "needs_background": "light"
     },
     "output_type": "display_data"
    }
   ],
   "source": [
    "#compare all independent variables with the wasted(dependent) variables\n",
    "\n",
    "#set the size of the figure\n",
    "plt.figure(figsize=(14,6))\n",
    "#set the title of the figure\n",
    "plt.title(\"Shows relation b/w all independent variables and wasted\")\n",
    "\n",
    "\n",
    "sns.lineplot(x=df.residence, y= df.wasted, label=\"residence\")\n",
    "sns.lineplot(x=df.emp, y= df.wasted, label=\"empowerment\")\n",
    "sns.lineplot(x=df.workStatus, y= df.wasted, label=\"workStatus\")\n",
    "sns.lineplot(x=df.wealthStatus, y= df.wasted, label=\"wealthStatus\")\n",
    "sns.lineplot(x=df.eduStatus, y= df.wasted, label=\"eduStatus\")"
   ]
  },
  {
   "cell_type": "raw",
   "id": "40431bbe",
   "metadata": {},
   "source": [
    "#compare all independent variables with the underweight(dependent) variables\n",
    "\n",
    "#set the size of the figure\n",
    "plt.figure(figsize=(14,6))\n",
    "#set the title of the figure\n",
    "plt.title(\"Shows relation b/w all independent variables and underweight\")\n",
    "\n",
    "\n",
    "sns.lineplot(x=df.residence, y= df.underweight, label=\"residence\")\n",
    "sns.lineplot(x=df.emp, y= df.underweight, label=\"empowerment\")\n",
    "sns.lineplot(x=df.workStatus, y= df.underweight, label=\"workStatus\")\n",
    "sns.lineplot(x=df.wealthStatus, y= df.underweight, label=\"wealthStatus\")\n",
    "sns.lineplot(x=df.eduStatus, y= df.underweight, label=\"eduStatus\")"
   ]
  },
  {
   "cell_type": "code",
   "execution_count": 124,
   "id": "50ea5444",
   "metadata": {},
   "outputs": [
    {
     "data": {
      "text/plain": [
       "<AxesSubplot:xlabel='workStatus', ylabel='underweight'>"
      ]
     },
     "execution_count": 124,
     "metadata": {},
     "output_type": "execute_result"
    },
    {
     "data": {
      "image/png": "[encoded data removed]",
      "text/plain": [
       "<Figure size 432x288 with 1 Axes>"
      ]
     },
     "metadata": {
      "needs_background": "light"
     },
     "output_type": "display_data"
    }
   ],
   "source": [
    "#scatter plot is also used to check relatinship between two varaibles\n",
    "sns.scatterplot(x=df.workStatus, y= df.underweight)"
   ]
  },
  {
   "cell_type": "code",
   "execution_count": 422,
   "id": "5dfeeacf",
   "metadata": {},
   "outputs": [
    {
     "data": {
      "text/plain": [
       "<AxesSubplot:xlabel='residence', ylabel='underweight'>"
      ]
     },
     "execution_count": 422,
     "metadata": {},
     "output_type": "execute_result"
    },
    {
     "data": {
      "image/png": "[encoded data removed]",
      "text/plain": [
       "<Figure size 432x288 with 1 Axes>"
      ]
     },
     "metadata": {
      "needs_background": "light"
     },
     "output_type": "display_data"
    }
   ],
   "source": [
    "#to double check the scatter plot relation, regplot is also used as it add regression line\n",
    "sns.regplot(x=df.residence, y= df.underweight, label=\"residence\")"
   ]
  },
  {
   "cell_type": "markdown",
   "id": "a2e59c58",
   "metadata": {},
   "source": [
    "### Modeling of data\n",
    "First use **Stunted variable** in th modeling "
   ]
  },
  {
   "cell_type": "code",
   "execution_count": 15,
   "id": "bd505d87",
   "metadata": {},
   "outputs": [],
   "source": [
    "#select the target(dependent) variable\n",
    "y = df.stunted\n",
    "\n",
    "#select the featured(independent) variables\n",
    "mal_features = ['residence', 'workStatus', 'wealthStatus', 'eduStatus', 'emp']\n",
    "x = df[mal_features]"
   ]
  },
  {
   "cell_type": "markdown",
   "id": "07f14c4f",
   "metadata": {},
   "source": [
    "Every model is divide into 4 parts:\n",
    "1. ##### Define a model\n",
    "2. ##### Fit the model\n",
    "3. ##### Predict the model\n",
    "4. ##### Evaluate the model\n",
    "\n",
    "I start by applying\n",
    "##### 1. Decison Tree model"
   ]
  },
  {
   "cell_type": "code",
   "execution_count": 28,
   "id": "d1c8ad26",
   "metadata": {},
   "outputs": [],
   "source": [
    "#apply train test split\n",
    "from sklearn.model_selection import train_test_split\n",
    "train_X, test_X, train_Y, test_Y = train_test_split(x,y,train_size = 0.7, test_size = 0.3, random_state=0)"
   ]
  },
  {
   "cell_type": "code",
   "execution_count": 29,
   "id": "df1635f3",
   "metadata": {},
   "outputs": [],
   "source": [
    "#import the required model\n",
    "from sklearn.tree import DecisionTreeRegressor \n",
    "#Define a model\n",
    "decision_model = DecisionTreeRegressor()\n",
    "#Fit the model\n",
    "decision_model.fit(train_X, train_Y)\n",
    "#Predict the model\n",
    "mal_Prediction = decision_model.predict(test_X)"
   ]
  },
  {
   "cell_type": "code",
   "execution_count": 30,
   "id": "67b8611c",
   "metadata": {},
   "outputs": [
    {
     "name": "stdout",
     "output_type": "stream",
     "text": [
      "0.19196945176252342\n"
     ]
    }
   ],
   "source": [
    "#metrics approach is used to check the accuracy of model \n",
    "from sklearn.metrics import mean_absolute_error\n",
    "#Evaluate the model\n",
    "print(mean_absolute_error(test_Y,mal_Prediction))"
   ]
  },
  {
   "cell_type": "markdown",
   "id": "1d263927",
   "metadata": {},
   "source": [
    "apply different techniques to improve the model accuracy"
   ]
  },
  {
   "cell_type": "code",
   "execution_count": 31,
   "id": "f1dee956",
   "metadata": {},
   "outputs": [],
   "source": [
    "#taking care of max_leaf_nodes parameter\n",
    "def get_mae(max_leaf_nodes, train_X, test_X, train_y, test_y):\n",
    "    model = DecisionTreeRegressor(max_leaf_nodes=max_leaf_nodes, random_state=0)\n",
    "    model.fit(train_X, train_y)\n",
    "    preds_val = model.predict(test_X)\n",
    "    mae = mean_absolute_error(test_Y, preds_val)\n",
    "    return(mae)"
   ]
  },
  {
   "cell_type": "code",
   "execution_count": 32,
   "id": "c3d6d639",
   "metadata": {},
   "outputs": [
    {
     "name": "stdout",
     "output_type": "stream",
     "text": [
      "Max leaf nodes: 5 \t\t Mean Absolute Error: 0.19111586280266157\n",
      "Max leaf nodes: 50 \t\t Mean Absolute Error: 0.19129518266436213\n",
      "Max leaf nodes: 500 \t\t Mean Absolute Error: 0.19196945176252342\n",
      "Max leaf nodes: 5000 \t\t Mean Absolute Error: 0.19196945176252342\n"
     ]
    }
   ],
   "source": [
    "# compare MAE with differing values of max_leaf_nodes\n",
    "for max_leaf_nodes in [5, 50, 500, 5000]:\n",
    "    my_mae = get_mae(max_leaf_nodes, train_X, test_X, train_Y, test_Y)\n",
    "    print(\"Max leaf nodes: {} \\t\\t Mean Absolute Error: {}\".format(max_leaf_nodes, my_mae))\n",
    "\n",
    "#but did'nt see any imporvement by using parameter tuning"
   ]
  },
  {
   "cell_type": "markdown",
   "id": "7dd19b23",
   "metadata": {},
   "source": [
    "Now, use \n",
    "##### 2. Random Forest model"
   ]
  },
  {
   "cell_type": "code",
   "execution_count": 66,
   "id": "125b01ab",
   "metadata": {},
   "outputs": [
    {
     "name": "stdout",
     "output_type": "stream",
     "text": [
      "0.192249263196183\n"
     ]
    }
   ],
   "source": [
    "#Import model\n",
    "from sklearn.ensemble import RandomForestRegressor\n",
    "#define model\n",
    "random_model = RandomForestRegressor(n_estimators=8, random_state=0)\n",
    "#fit model\n",
    "random_model.fit(train_X, train_Y)\n",
    "#predict model\n",
    "pred = random_model.predict(test_X)\n",
    "#evaluate model\n",
    "print(mean_absolute_error(test_Y, pred))     #do not improve the results"
   ]
  },
  {
   "cell_type": "markdown",
   "id": "4cca564b",
   "metadata": {},
   "source": [
    "##### 3. Linear Regression Model"
   ]
  },
  {
   "cell_type": "code",
   "execution_count": 87,
   "id": "ee62f242",
   "metadata": {},
   "outputs": [
    {
     "name": "stdout",
     "output_type": "stream",
     "text": [
      "0.1909088834674239\n"
     ]
    }
   ],
   "source": [
    "#linear model\n",
    "from sklearn.linear_model import LinearRegression\n",
    "linear_model = LinearRegression(n_jobs=10)\n",
    "linear_model.fit(train_X, train_Y)\n",
    "linear_Prediction = linear_model.predict(test_X)\n",
    "#a very little better than above models, but not good\n",
    "print(mean_absolute_error(test_Y,linear_Prediction))"
   ]
  },
  {
   "cell_type": "markdown",
   "id": "c5dc5234",
   "metadata": {},
   "source": [
    "##### 4. Logistic Regression Model"
   ]
  },
  {
   "cell_type": "code",
   "execution_count": 85,
   "id": "e9db2770",
   "metadata": {},
   "outputs": [
    {
     "name": "stdout",
     "output_type": "stream",
     "text": [
      "0.11014948859166011\n"
     ]
    }
   ],
   "source": [
    "#logistic model\n",
    "from sklearn.linear_model import LogisticRegression\n",
    "logistic_model = LogisticRegression()\n",
    "logistic_model.fit(train_X, train_Y)\n",
    "logistic_Prediction = logistic_model.predict(test_X)\n",
    "#Here, we see the big improvement in the results\n",
    "print(mean_absolute_error(test_Y,logistic_Prediction))"
   ]
  },
  {
   "cell_type": "markdown",
   "id": "887cdda6",
   "metadata": {},
   "source": [
    "##### 5. Extreme Gradient Boosting (XGBoost)\n",
    "is used for modeling, it dramatically improves the results"
   ]
  },
  {
   "cell_type": "code",
   "execution_count": 273,
   "id": "47afa6e8",
   "metadata": {},
   "outputs": [
    {
     "name": "stdout",
     "output_type": "stream",
     "text": [
      "Mean absolute Error:  0.19997985891210354\n"
     ]
    }
   ],
   "source": [
    "from xgboost import XGBRegressor\n",
    "gradient_model = XGBRegressor()\n",
    "gradient_model.fit(train_X, train_Y,\n",
    "                   early_stopping_rounds=5,\n",
    "                   eval_set=[(test_X, test_Y)],\n",
    "                   verbose=False)\n",
    "gradient_pred = gradient_model.predict(test_X)\n",
    "#shows same results of above models, except Logistic model. hence, it also, not improving the accuracy. \n",
    "print(\"Mean absolute Error: \", mean_absolute_error(test_Y, gradient_pred))"
   ]
  },
  {
   "cell_type": "markdown",
   "id": "65904f44",
   "metadata": {},
   "source": [
    "want to impove the Gradient Boosting model throught parameter tuning"
   ]
  },
  {
   "cell_type": "code",
   "execution_count": 276,
   "id": "48109b26",
   "metadata": {},
   "outputs": [
    {
     "name": "stdout",
     "output_type": "stream",
     "text": [
      "Mean absolute Error:  0.30483099970641236\n"
     ]
    }
   ],
   "source": [
    "model_2 = XGBRegressor(n_estimators=1000, learning_rate=0.001)\n",
    "model_2.fit(train_X, train_Y,\n",
    "                   early_stopping_rounds=5,\n",
    "                   eval_set=[(test_X, test_Y)],\n",
    "                   verbose=False)\n",
    "model_2_pred = model_2.predict(test_X)\n",
    "#It perform worse with parameter Tuning\n",
    "print(\"Mean absolute Error: \", mean_absolute_error(test_Y, model_2_pred))"
   ]
  },
  {
   "cell_type": "markdown",
   "id": "f9fee400",
   "metadata": {},
   "source": [
    "###### Accuracy Scores of all applied models"
   ]
  },
  {
   "cell_type": "code",
   "execution_count": 264,
   "id": "93edf9f5",
   "metadata": {},
   "outputs": [
    {
     "name": "stdout",
     "output_type": "stream",
     "text": [
      "\tScores of all model\n",
      "Decision Tree Score:  -0.008592288417494265\n",
      "Randon Forest Score:  -0.0007118653886999393\n",
      "Linear Regression Score:  0.015084994930365747\n",
      "Gradiest Decent Model_1 Score:  -1.5474423366741568\n",
      "Gradient Decent Model_2 Score:  0.010101167091371765\n",
      "Logistic Regression Score:  0.8898505114083399\n"
     ]
    }
   ],
   "source": [
    "print(\"\\tScores of all model\")\n",
    "print(\"Decision Tree Score: \" , decision_model.score(test_X,test_Y))\n",
    "print(\"Randon Forest Score: \" ,random_model.score(test_X,test_Y))\n",
    "print(\"Linear Regression Score: \" ,linear_model.score(test_X,test_Y))\n",
    "print(\"Gradiest Decent Model_1 Score: \" ,gradient_model.score(test_X,test_Y))\n",
    "print(\"Gradient Decent Model_2 Score: \" ,model_2.score(test_X,test_Y))\n",
    "\n",
    "#see Logistic Regression shows 88% accuracy of model, as our data problem is binary classification. \n",
    "print(\"Logistic Regression Score: \" ,logistic_model.score(test_X,test_Y))"
   ]
  },
  {
   "cell_type": "markdown",
   "id": "ac704f6e",
   "metadata": {},
   "source": [
    "###### Negative Mean Absolute Error Scores of all applied Models"
   ]
  },
  {
   "cell_type": "code",
   "execution_count": 265,
   "id": "0f2cf346",
   "metadata": {},
   "outputs": [
    {
     "name": "stdout",
     "output_type": "stream",
     "text": [
      "neg_mean_absolute_error of Decision Tree:  0.19349673842101828\n",
      "neg_mean_absolute_error of Randon Forest:  0.19385488162110773\n",
      "neg_mean_absolute_error of Linear Regression:  0.19314288456072598\n",
      "neg_mean_absolute_error of Gradiest Decent Model_1:  0.49969408049076025\n",
      "neg_mean_absolute_error of Gradient Decent Model_2:  0.19380560229031615\n",
      "neg_mean_absolute_error of Logistic Regression:  0.11014953406053603\n"
     ]
    }
   ],
   "source": [
    "#import required Library\n",
    "from sklearn.model_selection import cross_val_score\n",
    "\n",
    "scores= -1 * cross_val_score(decision_model, test_X, test_Y, cv = 5, scoring='neg_mean_absolute_error')\n",
    "print(\"neg_mean_absolute_error of Decision Tree: \",np.mean(scores))\n",
    "\n",
    "scores= -1 * cross_val_score(random_model, test_X, test_Y, cv = 5, scoring='neg_mean_absolute_error')\n",
    "print(\"neg_mean_absolute_error of Randon Forest: \",np.mean(scores))\n",
    "\n",
    "scores= -1 * cross_val_score(linear_model, test_X, test_Y, cv = 5, scoring='neg_mean_absolute_error')\n",
    "print(\"neg_mean_absolute_error of Linear Regression: \",np.mean(scores))\n",
    "\n",
    "scores= -1 * cross_val_score(gradient_model, test_X, test_Y, cv = 5, scoring='neg_mean_absolute_error')\n",
    "print(\"neg_mean_absolute_error of Gradiest Decent Model_1: \",np.mean(scores))\n",
    "\n",
    "scores= -1 * cross_val_score(model_2, test_X, test_Y, cv = 5, scoring='neg_mean_absolute_error')\n",
    "print(\"neg_mean_absolute_error of Gradient Decent Model_2: \",np.mean(scores))\n",
    "\n",
    "#we double chehcked our result as mean_absolute_error of logistic regression is small, than other models\n",
    "scores= -1 * cross_val_score(logistic_model, test_X, test_Y, cv = 5, scoring='neg_mean_absolute_error')\n",
    "print(\"neg_mean_absolute_error of Logistic Regression: \",np.mean(scores))"
   ]
  },
  {
   "cell_type": "markdown",
   "id": "e3be71de",
   "metadata": {},
   "source": [
    "###### Validation Check by Classification Metrics"
   ]
  },
  {
   "cell_type": "code",
   "execution_count": 270,
   "id": "84de5070",
   "metadata": {},
   "outputs": [
    {
     "name": "stdout",
     "output_type": "stream",
     "text": [
      "0.8898505114083399\n"
     ]
    }
   ],
   "source": [
    "#triple check the accuracy of Logistic Model\n",
    "from sklearn.metrics import accuracy_score as acc\n",
    "print(acc(test_Y, logistic_Prediction))\n",
    "\n",
    "#Note metric is only applicable for CLassification Model"
   ]
  },
  {
   "cell_type": "markdown",
   "id": "ea0e94ef",
   "metadata": {},
   "source": [
    "Let's Try to Improve the accuracy of Logistic Regression Model"
   ]
  },
  {
   "cell_type": "code",
   "execution_count": 339,
   "id": "932ef869",
   "metadata": {},
   "outputs": [
    {
     "name": "stdout",
     "output_type": "stream",
     "text": [
      "mean absolute Error of Stunted Varaible:  0.1034618410700236\n",
      "Logistic Regression Score Stunted Varaible:  0.8965381589299763\n"
     ]
    }
   ],
   "source": [
    "#test_train_split\n",
    "train_X, test_X, train_Y, test_Y = train_test_split(x,y,train_size = 0.8, test_size = 0.2, random_state=0)\n",
    "\n",
    "\"\"\"By changing train_size = 0.7 to train_size = 0.8\n",
    "           and test_size = 0.3 to test_size = 0.2\n",
    "    We see 1% improvemnt in the model.\n",
    "    \n",
    "    I randomly used the  parameter tuning of Logistic Regression but, accuracy results as same as previous.\n",
    "    Moreover, Same result get from using ### LogisticRegressionCV and ###SGDClassifier model.\n",
    "    Try these model by yourself\"\"\"\n",
    "\n",
    "#defile model\n",
    "logistic_model_2 = LogisticRegression(random_state=0)\n",
    "#Fit the model\n",
    "logistic_model_2.fit(train_X, train_Y)\n",
    "#make predictions\n",
    "logistic_Prediction_2 = logistic_model_2.predict(test_X)\n",
    "\n",
    "#Mean absolute Error\n",
    "print(\"mean absolute Error of Stunted Varaible: \", mean_absolute_error(test_Y,logistic_Prediction_2))\n",
    "\n",
    "#Score of the model\n",
    "print(\"Logistic Regression Score Stunted Varaible: \" ,logistic_model_2.score(test_X,test_Y))\n"
   ]
  },
  {
   "cell_type": "markdown",
   "id": "c9c0c31d",
   "metadata": {},
   "source": [
    "### Modeling of 2nd dependent variable\n",
    "Now, use **underweight variable** in the modeling"
   ]
  },
  {
   "cell_type": "code",
   "execution_count": 343,
   "id": "d87f4cd0",
   "metadata": {},
   "outputs": [
    {
     "name": "stdout",
     "output_type": "stream",
     "text": [
      "mean absolute Error of Under_weight Varaible:  0.1034618410700236\n",
      "Logistic Regression Score Under_weight Varaible:  0.8965381589299763\n"
     ]
    }
   ],
   "source": [
    "#test_train_split\n",
    "train_X, test_X, train_Y, test_Y = train_test_split(x,y,train_size = 0.8, test_size = 0.2, random_state=0)\n",
    "\n",
    "\"\"\"Same accuracy achieved as stunted model\"\"\"\n",
    "\n",
    "#defile model\n",
    "logistic_model_underweight = LogisticRegression()\n",
    "#Fit the model\n",
    "logistic_model_underweight.fit(train_X, train_Y)\n",
    "#make predictions\n",
    "logistic_Prediction_underweight = logistic_model_underweight.predict(test_X)\n",
    "\n",
    "#Mean absolute Error\n",
    "print(\"mean absolute Error of Under_weight Varaible: \", mean_absolute_error(test_Y,logistic_Prediction_underweight))\n",
    "\n",
    "#Score of the model\n",
    "print(\"Logistic Regression Score Under_weight Varaible: \" ,logistic_model_underweight.score(test_X,test_Y))"
   ]
  },
  {
   "cell_type": "markdown",
   "id": "392c8714",
   "metadata": {},
   "source": [
    "### Modeling of 3rd dependent variable\n",
    "Lastly, the modeling of **weighted variable.** "
   ]
  },
  {
   "cell_type": "code",
   "execution_count": 344,
   "id": "c001d7b3",
   "metadata": {},
   "outputs": [
    {
     "name": "stdout",
     "output_type": "stream",
     "text": [
      "mean absolute Error of Weighted Varaible:  0.1034618410700236\n",
      "Logistic Regression Score Weighted Varaible:  0.8965381589299763\n"
     ]
    }
   ],
   "source": [
    "#test_train_split\n",
    "train_X, test_X, train_Y, test_Y = train_test_split(x,y,train_size = 0.8, test_size = 0.2, random_state=0)\n",
    "\n",
    "\"\"\"Same accuracy achieved as stunted and underweight models\"\"\"\n",
    "\n",
    "#defile model\n",
    "logistic_model_weighted = LogisticRegression()\n",
    "#Fit the model\n",
    "logistic_model_weighted.fit(train_X, train_Y)\n",
    "#make predictions\n",
    "logistic_Prediction_weighted = logistic_model_weighted.predict(test_X)\n",
    "\n",
    "#Mean absolute Error\n",
    "print(\"mean absolute Error of Weighted Varaible: \", mean_absolute_error(test_Y,logistic_Prediction_weighted))\n",
    "\n",
    "#Score of the model\n",
    "print(\"Logistic Regression Score Weighted Varaible: \" ,logistic_model_weighted.score(test_X,test_Y))"
   ]
  }
 ],
 "metadata": {
  "kernelspec": {
   "display_name": "Python 3",
   "language": "python",
   "name": "python3"
  },
  "language_info": {
   "codemirror_mode": {
    "name": "ipython",
    "version": 3
   },
   "file_extension": ".py",
   "mimetype": "text/x-python",
   "name": "python",
   "nbconvert_exporter": "python",
   "pygments_lexer": "ipython3",
   "version": "3.8.8"
  }
 },
 "nbformat": 4,
 "nbformat_minor": 5
}
